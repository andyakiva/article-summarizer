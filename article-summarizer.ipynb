{
 "cells": [
  {
   "cell_type": "markdown",
   "metadata": {},
   "source": [
    "# Web Mining and Applied NLP (44-620)\n",
    "\n",
    "## Final Project: Article Summarizer\n",
    "\n",
    "### Student Name: Andy Asher [github link](https://github.com/andyakiva/article-summarizer)\n",
    "\n",
    "Perform the tasks described in the Markdown cells below.  When you have completed the assignment make sure your code cells have all been run (and have output beneath them) and ensure you have committed and pushed ALL of your changes to your assignment repository.\n",
    "\n",
    "You should bring in code from previous assignments to help you answer the questions below.\n",
    "\n",
    "Every question that requires you to write code will have a code cell underneath it; you may either write your entire solution in that cell or write it in a python file (`.py`), then import and run the appropriate code to answer the question."
   ]
  },
  {
   "cell_type": "markdown",
   "metadata": {},
   "source": [
    "# Question 1"
   ]
  },
  {
   "cell_type": "markdown",
   "metadata": {},
   "source": [
    "1. Find on the internet an article or blog post about a topic that interests you and you are able to get the text for using the technologies we have applied in the course.  Get the html for the article and store it in a file (which you must submit with your project)"
   ]
  },
  {
   "cell_type": "code",
   "execution_count": 75,
   "metadata": {},
   "outputs": [],
   "source": [
    "#expected modules\n",
    "from collections import Counter\n",
    "import requests\n",
    "import pickle\n",
    "import spacy\n",
    "from spacytextblob.spacytextblob import SpacyTextBlob\n",
    "from bs4 import BeautifulSoup\n",
    "import matplotlib.pyplot as plt\n",
    "\n",
    "response = requests.get('https://en.wikipedia.org/wiki/Catholic_Church')\n",
    "soup = BeautifulSoup(response.text, \"html.parser\")\n",
    "article_html = soup.text\n",
    "\n",
    "#Extract relevant text\n",
    "article_paragraphs = soup.find_all('p')\n",
    "article_content = '\\n'.join([paragraph.get_text() for paragraph in article_paragraphs])\n",
    "\n",
    "with open(\"article_html.pkl\", \"wb\") as file:\n",
    "    pickle.dump(article_content, file)"
   ]
  },
  {
   "cell_type": "markdown",
   "metadata": {},
   "source": [
    "# Question 2"
   ]
  },
  {
   "cell_type": "markdown",
   "metadata": {},
   "source": [
    "2. Read in your article's html source from the file you created in question 1 and do sentiment analysis on the article/post's text (use `.get_text()`).  Print the polarity score with an appropriate label.  Additionally print the number of sentences in the original article (with an appropriate label)"
   ]
  },
  {
   "cell_type": "code",
   "execution_count": 76,
   "metadata": {},
   "outputs": [
    {
     "name": "stdout",
     "output_type": "stream",
     "text": [
      "The polarity score of the article is 0.06331833010589492.\n",
      "There are 355 sentences in the article.\n"
     ]
    }
   ],
   "source": [
    "#read in the article\n",
    "with open(\"article_html.pkl\", \"rb\") as file:\n",
    "    article_html = pickle.load(file)\n",
    "soup = BeautifulSoup(article_html, 'html.parser')\n",
    "text = soup.get_text()\n",
    "\n",
    "#polarity score\n",
    "nlp = spacy.load(\"en_core_web_sm\")\n",
    "nlp.add_pipe(\"spacytextblob\")\n",
    "score = nlp(text)._.polarity\n",
    "print(f\"The polarity score of the article is {score}.\")\n",
    "\n",
    "#number of sentences\n",
    "doc = nlp(text)\n",
    "sentencecount = len(list(doc.sents))\n",
    "print(f\"There are {sentencecount} sentences in the article.\")"
   ]
  },
  {
   "cell_type": "markdown",
   "metadata": {},
   "source": [
    "# Question 3"
   ]
  },
  {
   "cell_type": "markdown",
   "metadata": {},
   "source": [
    "3. Load the article text into a trained `spaCy` pipeline, and determine the 5 most frequent tokens (converted to lower case).  Print the common tokens with an appropriate label.  Additionally, print the tokens their frequencies (with appropriate labels)"
   ]
  },
  {
   "cell_type": "code",
   "execution_count": 77,
   "metadata": {},
   "outputs": [
    {
     "name": "stdout",
     "output_type": "stream",
     "text": [
      "Most common tokens: ['catholic', 'church', 'pope', 'eastern', 'churches']\n",
      "Token : Appearances in Article\n",
      "catholic : 189\n",
      "church : 187\n",
      "pope : 86\n",
      "eastern : 57\n",
      "churches : 43\n"
     ]
    }
   ],
   "source": [
    "def we_care_about(token):\n",
    "    return not (token.is_space or token.is_punct or token.is_stop)\n",
    "\n",
    "interesting_tokens = [token.text.lower() for token in doc if we_care_about(token)]\n",
    "\n",
    "#print the top 5\n",
    "from collections import Counter\n",
    "word_freq = Counter(map(str,interesting_tokens))\n",
    "commontok = word_freq.most_common(5)\n",
    "toklist = []\n",
    "for token, frequency in commontok:\n",
    "    toklist.append(token)\n",
    "print(f\"Most common tokens: {toklist}\")\n",
    "\n",
    "#print with frequencies\n",
    "print(f\"Token : Appearances in Article\")\n",
    "for token, frequency in commontok:\n",
    "    print(f\"{token} : {frequency}\")\n"
   ]
  },
  {
   "cell_type": "markdown",
   "metadata": {},
   "source": [
    "# Question 4"
   ]
  },
  {
   "cell_type": "markdown",
   "metadata": {},
   "source": [
    "4. Load the article text into a trained `spaCy` pipeline, and determine the 5 most frequent lemmas (converted to lower case).  Print the common lemmas with an appropriate label.  Additionally, print the lemmas with their frequencies (with appropriate labels)."
   ]
  },
  {
   "cell_type": "code",
   "execution_count": 78,
   "metadata": {},
   "outputs": [
    {
     "name": "stdout",
     "output_type": "stream",
     "text": [
      "Most common lemmas: ['church', 'catholic', 'pope', 'eastern', 'bishop']\n",
      "Lemma : Appearances in Article\n",
      "church : 207\n",
      "catholic : 195\n",
      "pope : 93\n",
      "eastern : 57\n",
      "bishop : 50\n"
     ]
    }
   ],
   "source": [
    "interesting_lemmas = [token.lemma_.lower() for token in doc if we_care_about(token)]\n",
    "lemma_freq = Counter(interesting_lemmas)\n",
    "\n",
    "#print top 5\n",
    "commonlem = lemma_freq.most_common(5)\n",
    "lemlist = []\n",
    "for lemma, frequency in commonlem:\n",
    "    lemlist.append(lemma)\n",
    "print(f\"Most common lemmas: {lemlist}\")\n",
    "\n",
    "#print with frequencies\n",
    "print(f\"Lemma : Appearances in Article\")\n",
    "for lemma, frequency in commonlem:\n",
    "    print(f\"{lemma} : {frequency}\")"
   ]
  },
  {
   "cell_type": "markdown",
   "metadata": {},
   "source": [
    "# Question 5"
   ]
  },
  {
   "cell_type": "markdown",
   "metadata": {},
   "source": [
    "5. Make a list containing the scores (using tokens) of every sentence in the article, and plot a histogram with appropriate titles and axis labels of the scores. From your histogram, what seems to be the most common range of scores (put the answer in a comment after your code)?"
   ]
  },
  {
   "cell_type": "code",
   "execution_count": 79,
   "metadata": {},
   "outputs": [
    {
     "data": {
      "image/png": "[encoded data removed]",
      "text/plain": [
       "<Figure size 640x480 with 1 Axes>"
      ]
     },
     "metadata": {},
     "output_type": "display_data"
    }
   ],
   "source": [
    "def score_sentence_by_token(sentence, interesting_token):\n",
    "    doc = nlp(sentence)\n",
    "    tokens = [token.text.lower() for token in doc]\n",
    "    score = sum(1 for token in tokens if token in interesting_token)/len(tokens)\n",
    "    return score\n",
    "\n",
    "#get first sentence\n",
    "doc = nlp(text)\n",
    "firstsent = next(doc.sents).text\n",
    "\n",
    "scores = []\n",
    "for sentence in doc.sents:\n",
    "    scoreholder = score_sentence_by_token(sentence.text,interesting_tokens)\n",
    "    scores.append(scoreholder)\n",
    "\n",
    "#plot a histogram\n",
    "plt.hist(scores)\n",
    "plt.title('Sentence Scores in Article')\n",
    "plt.xlabel('Score')\n",
    "plt.ylabel('Number of Sentences')\n",
    "plt.show()\n",
    "\n",
    "#The most common range of scores is from .25-.65. There is an almost perfect bell curve in that range."
   ]
  },
  {
   "cell_type": "markdown",
   "metadata": {},
   "source": [
    "# Question 6"
   ]
  },
  {
   "cell_type": "markdown",
   "metadata": {},
   "source": [
    "6. Make a list containing the scores (using lemmas) of every sentence in the article, and plot a histogram with appropriate titles and axis labels of the scores.  From your histogram, what seems to be the most common range of scores (put the answer in a comment after your code)?"
   ]
  },
  {
   "cell_type": "code",
   "execution_count": 80,
   "metadata": {},
   "outputs": [
    {
     "data": {
      "image/png": "[encoded data removed]",
      "text/plain": [
       "<Figure size 640x480 with 1 Axes>"
      ]
     },
     "metadata": {},
     "output_type": "display_data"
    }
   ],
   "source": [
    "def score_sentence_by_lemma(sentence, interesting_lemmas):\n",
    "    doc = nlp(sentence)\n",
    "    lemmas = [token.lemma_.lower() for token in doc]\n",
    "    score = sum(1 for lemma in lemmas if lemma in interesting_lemmas) / len(lemmas)\n",
    "    return score    \n",
    "\n",
    "#list of scores\n",
    "scores = []\n",
    "for sentence in doc.sents:\n",
    "    scoreholder = score_sentence_by_token(sentence.text,interesting_lemmas)\n",
    "    scores.append(scoreholder)\n",
    "\n",
    "#plot a histogram\n",
    "plt.hist(scores)\n",
    "plt.title('Sentence Scores in Article')\n",
    "plt.xlabel('Score')\n",
    "plt.ylabel('Number of Sentences')\n",
    "plt.show()\n",
    "\n",
    "#The most common range of scores is from .2-.55. There is an almost perfect bell curve in that range."
   ]
  },
  {
   "cell_type": "markdown",
   "metadata": {},
   "source": [
    "# Question 7"
   ]
  },
  {
   "cell_type": "markdown",
   "metadata": {},
   "source": [
    "7. Using the histograms from questions 5 and 6, decide a \"cutoff\" score for tokens and lemmas such that fewer than half the sentences would have a score greater than the cutoff score.  Record the scores in this Markdown cell\n",
    "\n",
    "* Cutoff Score (tokens): .575\n",
    "* Cutoff Score (lemmas): .58\n",
    "\n",
    "Feel free to change these scores as you generate your summaries.  Ideally, we're shooting for at least 6 sentences for our summary, but don't want more than 10 (these numbers are rough estimates; they depend on the length of your article)."
   ]
  },
  {
   "cell_type": "markdown",
   "metadata": {},
   "source": [
    "# Question 8"
   ]
  },
  {
   "cell_type": "markdown",
   "metadata": {},
   "source": [
    "8. Create a summary of the article by going through every sentence in the article and adding it to an (initially) empty list if its score (based on tokens) is greater than the cutoff score you identified in question 8.  If your loop variable is named `sent`, you may find it easier to add `sent.text.strip()` to your list of sentences.  Print the summary (I would cleanly generate the summary text by `join`ing the strings in your list together with a space (`' '.join(sentence_list)`)."
   ]
  },
  {
   "cell_type": "code",
   "execution_count": 81,
   "metadata": {},
   "outputs": [
    {
     "name": "stdout",
     "output_type": "stream",
     "text": [
      "The church consists of 24 sui iuris churches, including the Latin Church and 23 Eastern Catholic Churches, which comprise almost 3,500[12] dioceses and eparchies located around the world. In the early 13th century mendicant orders were founded by Francis of Assisi and Dominic de Guzmán. In Switzerland, Huldrych Zwingli, John Calvin and other Protestant Reformers further criticized Catholic teachings. In 1798, Napoleon Bonaparte's General Louis-Alexandre Berthier invaded the Italian Peninsula, imprisoning Pope Pius VI, who died in captivity. In response, Pope Pius IX excommunicated King Victor Emmanuel II, refused payment for the land, and rejected the Italian Law of Guarantees, which granted him special privileges. The interwar Pope Pius XI modernized the papacy, appointing 40 indigenous bishops and concluding fifteen concordats, including the Lateran Treaty with Italy which founded the Vatican City State.[131]\n",
      "\n",
      "His successor Pope Pius XII led the Catholic Church through the Second World War and early Cold War. Some 2,579 Catholic clergy were sent to the Priest Barracks of Dachau Concentration Camp, including 400 Germans.[136][137] Thousands of priests, nuns and brothers were imprisoned, taken to a concentration camp, tortured and murdered, including Saints Maximilian Kolbe and Edith Stein.[138][139] Additionally, lay members aid many liturgical functions during worship services. The Catholic Church holds that Christ instituted the papacy upon giving the keys of Heaven to Saint Peter. The canon law of the Latin Church was the first modern Western legal system,[200] and is the oldest continuously functioning legal system in the West,[201][202] while the distinctive traditions of Eastern Catholic canon law govern the 23 Eastern Catholic particular churches sui iuris.\n",
      "\n",
      " Practices include prayers and Marian art, music, and architecture. When adults are baptized, confirmation is normally given immediately afterwards,[324] Pope Pius V's Roman Missal was subjected to minor revisions by Pope Clement VIII in 1604, Pope Urban VIII in 1634, Pope Pius X in 1911, Pope Pius XII in 1955, and Pope John XXIII in 1962. Chastity includes temperance, self-mastery, personal and cultural growth, and divine grace. According to the latest ruling, found in Ordinatio sacerdotalis, Pope John Paul II affirmed that the Catholic Church \"does not consider herself authorised to admit women to priestly ordination\".[436]\n"
     ]
    }
   ],
   "source": [
    "summarysents = []\n",
    "for sentence in doc.sents:\n",
    "    holdscore = score_sentence_by_token(sentence.text, interesting_tokens)\n",
    "    if holdscore > .575:\n",
    "        summarysents.append(sentence.text)\n",
    "\n",
    "summary = ' '.join(summarysents)\n",
    "print(summary)"
   ]
  },
  {
   "cell_type": "markdown",
   "metadata": {},
   "source": [
    "# Question 9"
   ]
  },
  {
   "cell_type": "markdown",
   "metadata": {},
   "source": [
    "9. Print the polarity score of your summary you generated with the token scores (with an appropriate label). Additionally, print the number of sentences in the summarized article."
   ]
  },
  {
   "cell_type": "code",
   "execution_count": 82,
   "metadata": {},
   "outputs": [
    {
     "name": "stdout",
     "output_type": "stream",
     "text": [
      "The polarity score of the summary is 0.06558779761904762.\n",
      "There are 15 sentences in the summary.\n"
     ]
    }
   ],
   "source": [
    "score = nlp(summary)._.polarity\n",
    "print(f\"The polarity score of the summary is {score}.\")\n",
    "\n",
    "sentencecount = len(summarysents)\n",
    "print(f\"There are {sentencecount} sentences in the summary.\")"
   ]
  },
  {
   "cell_type": "markdown",
   "metadata": {},
   "source": [
    "# Question 10"
   ]
  },
  {
   "cell_type": "markdown",
   "metadata": {},
   "source": [
    "10. Create a summary of the article by going through every sentence in the article and adding it to an (initially) empty list if its score (based on lemmas) is greater than the cutoff score you identified in question 8.  If your loop variable is named `sent`, you may find it easier to add `sent.text.strip()` to your list of sentences.  Print the summary (I would cleanly generate the summary text by `join`ing the strings in your list together with a space (`' '.join(sentence_list)`)."
   ]
  },
  {
   "cell_type": "code",
   "execution_count": 87,
   "metadata": {},
   "outputs": [
    {
     "name": "stdout",
     "output_type": "stream",
     "text": [
      "The church consists of 24 sui iuris churches, including the Latin Church and 23 Eastern Catholic Churches, which comprise almost 3,500[12] dioceses and eparchies located around the world. The basic election system of the College of Cardinals which Gregory VII helped establish has continued to function into the 21st century. Pope Gregory VII further initiated the Gregorian Reforms regarding the independence of the clergy from secular authority. In the early 13th century mendicant orders were founded by Francis of Assisi and Dominic de Guzmán. In Switzerland, Huldrych Zwingli, John Calvin and other Protestant Reformers further criticized Catholic teachings. In 1798, Napoleon Bonaparte's General Louis-Alexandre Berthier invaded the Italian Peninsula, imprisoning Pope Pius VI, who died in captivity. In response, Pope Pius IX excommunicated King Victor Emmanuel II, refused payment for the land, and rejected the Italian Law of Guarantees, which granted him special privileges. The interwar Pope Pius XI modernized the papacy, appointing 40 indigenous bishops and concluding fifteen concordats, including the Lateran Treaty with Italy which founded the Vatican City State.[131]\n",
      "\n",
      "His successor Pope Pius XII led the Catholic Church through the Second World War and early Cold War. Some 2,579 Catholic clergy were sent to the Priest Barracks of Dachau Concentration Camp, including 400 Germans.[136][137] Thousands of priests, nuns and brothers were imprisoned, taken to a concentration camp, tortured and murdered, including Saints Maximilian Kolbe and Edith Stein.[138][139] Francis has made efforts to further close Catholicism's estrangement with the Orthodox Churches.[173] Additionally, lay members aid many liturgical functions during worship services. The canon law of the Latin Church was the first modern Western legal system,[200] and is the oldest continuously functioning legal system in the West,[201][202] while the distinctive traditions of Eastern Catholic canon law govern the 23 Eastern Catholic particular churches sui iuris.\n",
      "\n",
      " Practices include prayers and Marian art, music, and architecture. When adults are baptized, confirmation is normally given immediately afterwards,[324] Eastern Catholic Churches have their own rites. Pope Pius V's Roman Missal was subjected to minor revisions by Pope Clement VIII in 1604, Pope Urban VIII in 1634, Pope Pius X in 1911, Pope Pius XII in 1955, and Pope John XXIII in 1962. Chastity includes temperance, self-mastery, personal and cultural growth, and divine grace.\n"
     ]
    }
   ],
   "source": [
    "summarysents = []\n",
    "for sentence in doc.sents:\n",
    "    holdscore = score_sentence_by_lemma(sentence.text, interesting_lemmas)\n",
    "    if holdscore > .58:\n",
    "        summarysents.append(sentence.text)\n",
    "\n",
    "summary = ' '.join(summarysents)\n",
    "print(summary)"
   ]
  },
  {
   "cell_type": "markdown",
   "metadata": {},
   "source": [
    "# Question 11"
   ]
  },
  {
   "cell_type": "markdown",
   "metadata": {},
   "source": [
    "11. Print the polarity score of your summary you generated with the lemma scores (with an appropriate label). Additionally, print the number of sentences in the summarized article."
   ]
  },
  {
   "cell_type": "code",
   "execution_count": 88,
   "metadata": {},
   "outputs": [
    {
     "name": "stdout",
     "output_type": "stream",
     "text": [
      "The polarity score of the summary is 0.05552248677248678.\n",
      "There are 17 sentences in the summary.\n"
     ]
    }
   ],
   "source": [
    "score = nlp(summary)._.polarity\n",
    "print(f\"The polarity score of the summary is {score}.\")\n",
    "\n",
    "sentencecount = len(summarysents)\n",
    "print(f\"There are {sentencecount} sentences in the summary.\")"
   ]
  },
  {
   "cell_type": "markdown",
   "metadata": {},
   "source": [
    "# Question 12"
   ]
  },
  {
   "cell_type": "markdown",
   "metadata": {},
   "source": [
    "12.  Compare your polarity scores of your summaries to the polarity scores of the initial article.  Is there a difference?  Why do you think that may or may not be?.  Answer in this Markdown cell.  "
   ]
  },
  {
   "cell_type": "markdown",
   "metadata": {},
   "source": [
    "Original Score: 0.06331833010589492\n",
    "Token Summary Score: 0.06558779761904762\n",
    "Lemma Summary Score: 0.05552248677248678\n",
    "\n",
    "While there is a slight difference, the differance is by no more the 1/100th and is miniscule. All three scores are incredibly nuetral. I think this is largely due to Wikipedia being an encyclopedia that strives to be as nuetral as possible. There is no thesis to this article. It is meant only to list facts.\n"
   ]
  },
  {
   "cell_type": "markdown",
   "metadata": {},
   "source": [
    "# Question 13"
   ]
  },
  {
   "cell_type": "markdown",
   "metadata": {},
   "source": [
    "13. Based on your reading of the original article, which summary do you think is better (if there's a difference).  Why do you think this might be?"
   ]
  },
  {
   "cell_type": "markdown",
   "metadata": {},
   "source": [
    "There is such a miniscule difference that I beleive they are equal. I think this is due primarily to the name of the entity (The Catholic Church) containing a common noun. Almost every sentence in this article contains at least one of the top five tokens/lemmas with most containing more than one. Over half the sentences are comprised of over half token/lemmas from the list. This is a very dense article which is difficult to summarize."
   ]
  },
  {
   "cell_type": "code",
   "execution_count": 92,
   "metadata": {},
   "outputs": [
    {
     "name": "stdout",
     "output_type": "stream",
     "text": [
      "This application is used to convert notebook files (*.ipynb)\n",
      "        to various other formats.\n",
      "\n",
      "        WARNING: THE COMMANDLINE INTERFACE MAY CHANGE IN FUTURE RELEASES.\n",
      "\n",
      "Options\n",
      "=======\n",
      "The options below are convenience aliases to configurable class-options,\n",
      "as listed in the \"Equivalent to\" description-line of the aliases.\n",
      "To see all configurable class-options for some <cmd>, use:\n",
      "    <cmd> --help-all\n",
      "\n",
      "--debug\n",
      "    set log level to logging.DEBUG (maximize logging output)\n",
      "    Equivalent to: [--Application.log_level=10]\n",
      "--show-config\n",
      "    Show the application's configuration (human-readable format)\n",
      "    Equivalent to: [--Application.show_config=True]\n",
      "--show-config-json\n",
      "    Show the application's configuration (json format)\n",
      "    Equivalent to: [--Application.show_config_json=True]\n",
      "--generate-config\n",
      "    generate default config file\n",
      "    Equivalent to: [--JupyterApp.generate_config=True]\n",
      "-y\n",
      "    Answer yes to any questions instead of prompting.\n",
      "    Equivalent to: [--JupyterApp.answer_yes=True]\n",
      "--execute\n",
      "    Execute the notebook prior to export.\n",
      "    Equivalent to: [--ExecutePreprocessor.enabled=True]\n",
      "--allow-errors\n",
      "    Continue notebook execution even if one of the cells throws an error and include the error message in the cell output (the default behaviour is to abort conversion). This flag is only relevant if '--execute' was specified, too.\n",
      "    Equivalent to: [--ExecutePreprocessor.allow_errors=True]\n",
      "--stdin\n",
      "    read a single notebook file from stdin. Write the resulting notebook with default basename 'notebook.*'\n",
      "    Equivalent to: [--NbConvertApp.from_stdin=True]\n",
      "--stdout\n",
      "    Write notebook output to stdout instead of files.\n",
      "    Equivalent to: [--NbConvertApp.writer_class=StdoutWriter]\n",
      "--inplace\n",
      "    Run nbconvert in place, overwriting the existing notebook (only\n",
      "            relevant when converting to notebook format)\n",
      "    Equivalent to: [--NbConvertApp.use_output_suffix=False --NbConvertApp.export_format=notebook --FilesWriter.build_directory=]\n",
      "--clear-output\n",
      "    Clear output of current file and save in place,\n",
      "            overwriting the existing notebook.\n",
      "    Equivalent to: [--NbConvertApp.use_output_suffix=False --NbConvertApp.export_format=notebook --FilesWriter.build_directory= --ClearOutputPreprocessor.enabled=True]\n",
      "--no-prompt\n",
      "    Exclude input and output prompts from converted document.\n",
      "    Equivalent to: [--TemplateExporter.exclude_input_prompt=True --TemplateExporter.exclude_output_prompt=True]\n",
      "--no-input\n",
      "    Exclude input cells and output prompts from converted document.\n",
      "            This mode is ideal for generating code-free reports.\n",
      "    Equivalent to: [--TemplateExporter.exclude_output_prompt=True --TemplateExporter.exclude_input=True --TemplateExporter.exclude_input_prompt=True]\n",
      "--allow-chromium-download\n",
      "    Whether to allow downloading chromium if no suitable version is found on the system.\n",
      "    Equivalent to: [--WebPDFExporter.allow_chromium_download=True]\n",
      "--disable-chromium-sandbox\n",
      "    Disable chromium security sandbox when converting to PDF..\n",
      "    Equivalent to: [--WebPDFExporter.disable_sandbox=True]\n",
      "--show-input\n",
      "    Shows code input. This flag is only useful for dejavu users.\n",
      "    Equivalent to: [--TemplateExporter.exclude_input=False]\n",
      "--embed-images\n",
      "    Embed the images as base64 dataurls in the output. This flag is only useful for the HTML/WebPDF/Slides exports.\n",
      "    Equivalent to: [--HTMLExporter.embed_images=True]\n",
      "--sanitize-html\n",
      "    Whether the HTML in Markdown cells and cell outputs should be sanitized..\n",
      "    Equivalent to: [--HTMLExporter.sanitize_html=True]\n",
      "--log-level=<Enum>\n",
      "    Set the log level by value or name.\n",
      "    Choices: any of [0, 10, 20, 30, 40, 50, 'DEBUG', 'INFO', 'WARN', 'ERROR', 'CRITICAL']\n",
      "    Default: 30\n",
      "    Equivalent to: [--Application.log_level]\n",
      "--config=<Unicode>\n",
      "    Full path of a config file.\n",
      "    Default: ''\n",
      "    Equivalent to: [--JupyterApp.config_file]\n",
      "--to=<Unicode>\n",
      "    The export format to be used, either one of the built-in formats\n",
      "            ['asciidoc', 'custom', 'html', 'latex', 'markdown', 'notebook', 'pdf', 'python', 'qtpdf', 'qtpng', 'rst', 'script', 'slides', 'webpdf']\n",
      "            or a dotted object name that represents the import path for an\n",
      "            ``Exporter`` class\n",
      "    Default: ''\n",
      "    Equivalent to: [--NbConvertApp.export_format]\n",
      "--template=<Unicode>\n",
      "    Name of the template to use\n",
      "    Default: ''\n",
      "    Equivalent to: [--TemplateExporter.template_name]\n",
      "--template-file=<Unicode>\n",
      "    Name of the template file to use\n",
      "    Default: None\n",
      "    Equivalent to: [--TemplateExporter.template_file]\n",
      "--theme=<Unicode>\n",
      "    Template specific theme(e.g. the name of a JupyterLab CSS theme distributed\n",
      "    as prebuilt extension for the lab template)\n",
      "    Default: 'light'\n",
      "    Equivalent to: [--HTMLExporter.theme]\n",
      "--sanitize_html=<Bool>\n",
      "    Whether the HTML in Markdown cells and cell outputs should be sanitized.This\n",
      "    should be set to True by nbviewer or similar tools.\n",
      "    Default: False\n",
      "    Equivalent to: [--HTMLExporter.sanitize_html]\n",
      "--writer=<DottedObjectName>\n",
      "    Writer class used to write the\n",
      "                                        results of the conversion\n",
      "    Default: 'FilesWriter'\n",
      "    Equivalent to: [--NbConvertApp.writer_class]\n",
      "--post=<DottedOrNone>\n",
      "    PostProcessor class used to write the\n",
      "                                        results of the conversion\n",
      "    Default: ''\n",
      "    Equivalent to: [--NbConvertApp.postprocessor_class]\n",
      "--output=<Unicode>\n",
      "    Overwrite base name use for output files.\n",
      "                Supports pattern replacements '{notebook_name}'.\n",
      "    Default: '{notebook_name}'\n",
      "    Equivalent to: [--NbConvertApp.output_base]\n",
      "--output-dir=<Unicode>\n",
      "    Directory to write output(s) to. Defaults\n",
      "                                  to output to the directory of each notebook. To recover\n",
      "                                  previous default behaviour (outputting to the current\n",
      "                                  working directory) use . as the flag value.\n",
      "    Default: ''\n",
      "    Equivalent to: [--FilesWriter.build_directory]\n",
      "--reveal-prefix=<Unicode>\n",
      "    The URL prefix for reveal.js (version 3.x).\n",
      "            This defaults to the reveal CDN, but can be any url pointing to a copy\n",
      "            of reveal.js.\n",
      "            For speaker notes to work, this must be a relative path to a local\n",
      "            copy of reveal.js: e.g., \"reveal.js\".\n",
      "            If a relative path is given, it must be a subdirectory of the\n",
      "            current directory (from which the server is run).\n",
      "            See the usage documentation\n",
      "            (https://nbconvert.readthedocs.io/en/latest/usage.html#reveal-js-html-slideshow)\n",
      "            for more details.\n",
      "    Default: ''\n",
      "    Equivalent to: [--SlidesExporter.reveal_url_prefix]\n",
      "--nbformat=<Enum>\n",
      "    The nbformat version to write.\n",
      "            Use this to downgrade notebooks.\n",
      "    Choices: any of [1, 2, 3, 4]\n",
      "    Default: 4\n",
      "    Equivalent to: [--NotebookExporter.nbformat_version]\n",
      "\n",
      "Examples\n",
      "--------\n",
      "\n",
      "    The simplest way to use nbconvert is\n",
      "\n",
      "            > jupyter nbconvert mynotebook.ipynb --to html\n",
      "\n",
      "            Options include ['asciidoc', 'custom', 'html', 'latex', 'markdown', 'notebook', 'pdf', 'python', 'qtpdf', 'qtpng', 'rst', 'script', 'slides', 'webpdf'].\n",
      "\n",
      "            > jupyter nbconvert --to latex mynotebook.ipynb\n",
      "\n",
      "            Both HTML and LaTeX support multiple output templates. LaTeX includes\n",
      "            'base', 'article' and 'report'.  HTML includes 'basic', 'lab' and\n",
      "            'classic'. You can specify the flavor of the format used.\n",
      "\n",
      "            > jupyter nbconvert --to html --template lab mynotebook.ipynb\n",
      "\n",
      "            You can also pipe the output to stdout, rather than a file\n",
      "\n",
      "            > jupyter nbconvert mynotebook.ipynb --stdout\n",
      "\n",
      "            PDF is generated via latex\n",
      "\n",
      "            > jupyter nbconvert mynotebook.ipynb --to pdf\n",
      "\n",
      "            You can get (and serve) a Reveal.js-powered slideshow\n",
      "\n",
      "            > jupyter nbconvert myslides.ipynb --to slides --post serve\n",
      "\n",
      "            Multiple notebooks can be given at the command line in a couple of\n",
      "            different ways:\n",
      "\n",
      "            > jupyter nbconvert notebook*.ipynb\n",
      "            > jupyter nbconvert notebook1.ipynb notebook2.ipynb\n",
      "\n",
      "            or you can specify the notebooks list in a config file, containing::\n",
      "\n",
      "                c.NbConvertApp.notebooks = [\"my_notebook.ipynb\"]\n",
      "\n",
      "            > jupyter nbconvert --config mycfg.py\n",
      "\n",
      "To see all available configurables, use `--help-all`.\n",
      "\n"
     ]
    },
    {
     "name": "stderr",
     "output_type": "stream",
     "text": [
      "[NbConvertApp] WARNING | pattern 'web-scraping.ipynb' matched no files\n"
     ]
    }
   ],
   "source": [
    "!jupyter nbconvert --to html web-scraping.ipynb"
   ]
  }
 ],
 "metadata": {
  "kernelspec": {
   "display_name": "Python 3",
   "language": "python",
   "name": "python3"
  },
  "language_info": {
   "codemirror_mode": {
    "name": "ipython",
    "version": 3
   },
   "file_extension": ".py",
   "mimetype": "text/x-python",
   "name": "python",
   "nbconvert_exporter": "python",
   "pygments_lexer": "ipython3",
   "version": "3.12.0"
  }
 },
 "nbformat": 4,
 "nbformat_minor": 4
}
